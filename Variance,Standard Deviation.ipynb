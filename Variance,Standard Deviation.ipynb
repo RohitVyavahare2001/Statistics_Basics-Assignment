{
 "cells": [
  {
   "cell_type": "markdown",
   "id": "3a794f1b",
   "metadata": {},
   "source": [
    "# Question 1\n",
    "\n",
    "\n",
    "\n",
    "Find standard deviation for the given list of items items = (12,86,87,88,86,87,85,86)\n"
   ]
  },
  {
   "cell_type": "code",
   "execution_count": 4,
   "id": "2bbbc116",
   "metadata": {},
   "outputs": [],
   "source": [
    "import statistics\n",
    "from statistics import variance\n",
    "from statistics import stdev"
   ]
  },
  {
   "cell_type": "code",
   "execution_count": 6,
   "id": "aaa116bf",
   "metadata": {},
   "outputs": [],
   "source": [
    "items=(12,86,87,88,86,87,85,86)"
   ]
  },
  {
   "cell_type": "code",
   "execution_count": 8,
   "id": "55d5854c",
   "metadata": {},
   "outputs": [
    {
     "name": "stdout",
     "output_type": "stream",
     "text": [
      "26.329980196400776\n"
     ]
    }
   ],
   "source": [
    "print(stdev(items))"
   ]
  },
  {
   "cell_type": "markdown",
   "id": "cb54330d",
   "metadata": {},
   "source": [
    "# Question 2\n",
    "\n",
    "Below three columns, calculate standard deviation using pandas library first convert below\n",
    "\n",
    "d into a dataframe.\n",
    "\n",
    "d = {\n",
    "\n",
    "'Name': ['Alisa', 'Bobby','Cathrine','Madonna','Rocky', 'Sebastian','Jaqluine',\n",
    "\n",
    "'Rahul','David', 'Andrew', 'Ajay','Teresa'],\n",
    "\n",
    "'Score 1': [62,47,55,74,31,77,85,63,42,32,71,57),\n",
    "\n",
    "'Score2':[89,87,67,55,47,72,76,79,44,92,99,69],\n",
    "\n",
    "'Score3':[56,86,77,45,73,62,74,89,71,67,97,68]}\n",
    "\n",
    "\n"
   ]
  },
  {
   "cell_type": "code",
   "execution_count": 10,
   "id": "780f62d6",
   "metadata": {},
   "outputs": [],
   "source": [
    "d = {\n",
    "\n",
    "'Name': ['Alisa', 'Bobby','Cathrine','Madonna','Rocky', 'Sebastian','Jaqluine',\n",
    "\n",
    "'Rahul','David', 'Andrew', 'Ajay','Teresa'],\n",
    "\n",
    "'Score 1': [62,47,55,74,31,77,85,63,42,32,71,57],\n",
    "\n",
    "'Score2':[89,87,67,55,47,72,76,79,44,92,99,69],\n",
    "\n",
    "'Score3':[56,86,77,45,73,62,74,89,71,67,97,68]}\n"
   ]
  },
  {
   "cell_type": "code",
   "execution_count": 11,
   "id": "016c088c",
   "metadata": {},
   "outputs": [],
   "source": [
    "import pandas as pd"
   ]
  },
  {
   "cell_type": "code",
   "execution_count": 12,
   "id": "ea7f536a",
   "metadata": {},
   "outputs": [],
   "source": [
    "d=pd.DataFrame(d)"
   ]
  },
  {
   "cell_type": "code",
   "execution_count": 22,
   "id": "a69651dc",
   "metadata": {},
   "outputs": [
    {
     "name": "stdout",
     "output_type": "stream",
     "text": [
      "Score 1    17.446021\n",
      "Score2     17.653225\n",
      "Score3     14.355603\n",
      "dtype: float64\n"
     ]
    },
    {
     "name": "stderr",
     "output_type": "stream",
     "text": [
      "C:\\Users\\ROHIT\\AppData\\Local\\Temp\\ipykernel_20736\\28839288.py:1: FutureWarning: Dropping of nuisance columns in DataFrame reductions (with 'numeric_only=None') is deprecated; in a future version this will raise TypeError.  Select only valid columns before calling the reduction.\n",
      "  std=d.std()\n"
     ]
    }
   ],
   "source": [
    "std=d.std()\n",
    "print(std)"
   ]
  },
  {
   "cell_type": "markdown",
   "id": "8a1b9ce2",
   "metadata": {},
   "source": [
    "# Question 3\n",
    "\n",
    "\n",
    "Below is the data for six students studying average hours in a day. Find the standard deviation for the data x=[3,7,6,4,3,4]"
   ]
  },
  {
   "cell_type": "code",
   "execution_count": 27,
   "id": "f96621fa",
   "metadata": {},
   "outputs": [
    {
     "name": "stdout",
     "output_type": "stream",
     "text": [
      "1.6431676725154984\n"
     ]
    }
   ],
   "source": [
    "import statistics\n",
    "from statistics import stdev\n",
    "x=[3,7,6,4,3,4]\n",
    "print(stdev(x))"
   ]
  },
  {
   "cell_type": "markdown",
   "id": "81ab8935",
   "metadata": {},
   "source": [
    "# Question 4\n",
    "\n",
    "Calculate variance() for the given list using the statistics module. x=[4, 8, 6, 5, 3, 2, 8, 9, 2,5]\n"
   ]
  },
  {
   "cell_type": "code",
   "execution_count": 28,
   "id": "9364c4e6",
   "metadata": {},
   "outputs": [],
   "source": [
    "import statistics\n",
    "from statistics import variance"
   ]
  },
  {
   "cell_type": "code",
   "execution_count": 29,
   "id": "a7021c2c",
   "metadata": {},
   "outputs": [
    {
     "name": "stdout",
     "output_type": "stream",
     "text": [
      "6.4\n"
     ]
    }
   ],
   "source": [
    "x=[4, 8, 6, 5, 3, 2, 8, 9, 2,5]\n",
    "print(variance(x))"
   ]
  },
  {
   "cell_type": "markdown",
   "id": "6f5c5bca",
   "metadata": {},
   "source": [
    "# Question 5\n",
    "\n",
    "    Write a code to that takes data from a sample and returns an estimation of the population standard deviation.\n",
    "    x=[4, 8, 6, 5, 3, 2, 8, 9, 2, 5]\n",
    "    Hint: stdev()"
   ]
  },
  {
   "cell_type": "code",
   "execution_count": 34,
   "id": "40db6c9f",
   "metadata": {},
   "outputs": [],
   "source": [
    "import statistics\n",
    "from statistics import stdev\n",
    "def estimation(data):\n",
    "    return(stdev(data))"
   ]
  },
  {
   "cell_type": "code",
   "execution_count": 39,
   "id": "ca4b0b2f",
   "metadata": {},
   "outputs": [
    {
     "name": "stdout",
     "output_type": "stream",
     "text": [
      "2.5298221281347035\n"
     ]
    }
   ],
   "source": [
    "x=[4, 8, 6, 5, 3, 2, 8, 9, 2, 5]\n",
    "print(estimation(x))"
   ]
  },
  {
   "cell_type": "code",
   "execution_count": null,
   "id": "10496b2b",
   "metadata": {},
   "outputs": [],
   "source": []
  }
 ],
 "metadata": {
  "kernelspec": {
   "display_name": "Python 3 (ipykernel)",
   "language": "python",
   "name": "python3"
  },
  "language_info": {
   "codemirror_mode": {
    "name": "ipython",
    "version": 3
   },
   "file_extension": ".py",
   "mimetype": "text/x-python",
   "name": "python",
   "nbconvert_exporter": "python",
   "pygments_lexer": "ipython3",
   "version": "3.9.13"
  }
 },
 "nbformat": 4,
 "nbformat_minor": 5
}

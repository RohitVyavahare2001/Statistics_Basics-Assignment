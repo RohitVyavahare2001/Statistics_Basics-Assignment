{
 "cells": [
  {
   "cell_type": "markdown",
   "id": "db574edb",
   "metadata": {},
   "source": [
    "# Question 1\n",
    "Create two numpy arrays and find the variance between two of them"
   ]
  },
  {
   "cell_type": "code",
   "execution_count": 45,
   "id": "feafb504",
   "metadata": {},
   "outputs": [
    {
     "name": "stdout",
     "output_type": "stream",
     "text": [
      "8.0\n",
      "8.0\n"
     ]
    }
   ],
   "source": [
    "import numpy as np\n",
    "\n",
    "n1=np.array([2, 4, 6, 8, 10])\n",
    "n2=np.array([1, 3, 5, 7, 9])\n",
    "var1=np.var(n1)\n",
    "var2=np.var(n2)\n",
    "print(var1)\n",
    "print(var2)"
   ]
  },
  {
   "cell_type": "markdown",
   "id": "3237691a",
   "metadata": {},
   "source": [
    "\n",
    "    Question 2\n",
    "    Find the covariance of a given array\n",
    "    x = np.array([[3, 1, 4], [7, 3, 8], [1, 5, 7]])\n"
   ]
  },
  {
   "cell_type": "code",
   "execution_count": 4,
   "id": "f85c9cf9",
   "metadata": {},
   "outputs": [],
   "source": [
    "import numpy as np"
   ]
  },
  {
   "cell_type": "code",
   "execution_count": 32,
   "id": "23c1d3bb",
   "metadata": {},
   "outputs": [
    {
     "name": "stdout",
     "output_type": "stream",
     "text": [
      "[[2.33333333 4.         0.66666667]\n",
      " [4.         7.         0.        ]\n",
      " [0.66666667 0.         9.33333333]]\n"
     ]
    }
   ],
   "source": [
    "x = np.array([[3, 1, 4], [7, 3, 8], [1, 5, 7]])\n",
    "x_var=np.cov(x)\n",
    "print(x_var)"
   ]
  },
  {
   "cell_type": "markdown",
   "id": "057393af",
   "metadata": {},
   "source": [
    "# Question 3\n",
    "Find the covariance of two series, define two list and covert to series then find the\n",
    "covariance\n"
   ]
  },
  {
   "cell_type": "code",
   "execution_count": 12,
   "id": "a1196e15",
   "metadata": {},
   "outputs": [],
   "source": [
    "import pandas as pd\n",
    "import numpy as np\n",
    "import statistics\n",
    "from statistics import \n",
    "l1=[1,2,3,4,5]\n",
    "l2=[6,7,8,9,10]"
   ]
  },
  {
   "cell_type": "code",
   "execution_count": 28,
   "id": "29e8cfb1",
   "metadata": {},
   "outputs": [
    {
     "name": "stdout",
     "output_type": "stream",
     "text": [
      "2.5\n"
     ]
    }
   ],
   "source": [
    "l1=pd.Series(l1)\n",
    "l2=pd.Series(l2)\n",
    "cov=l1.cov(l2)\n",
    "print(cov)"
   ]
  },
  {
   "cell_type": "markdown",
   "id": "3468feff",
   "metadata": {},
   "source": [
    "# Question 4\n",
    "find the covariance from the given dataframe:\n",
    "data = {\"col1\":[1,5,4],\"col2\":[3,7,1],\"col3\":[6,8,1],\"col4\":[10,7,2]}\n"
   ]
  },
  {
   "cell_type": "code",
   "execution_count": 24,
   "id": "c4b4b773",
   "metadata": {},
   "outputs": [],
   "source": [
    "data = {\"col1\":[1,5,4],\"col2\":[3,7,1],\"col3\":[6,8,1],\"col4\":[10,7,2]}"
   ]
  },
  {
   "cell_type": "code",
   "execution_count": 30,
   "id": "97b388b8",
   "metadata": {},
   "outputs": [
    {
     "name": "stdout",
     "output_type": "stream",
     "text": [
      "              col1       col2          col3       col4\n",
      "col1  4.333333e+00   2.666667  2.220446e-16  -5.166667\n",
      "col2  2.666667e+00   9.333333  1.000000e+01   5.666667\n",
      "col3  2.220446e-16  10.000000  1.300000e+01  11.500000\n",
      "col4 -5.166667e+00   5.666667  1.150000e+01  16.333333\n"
     ]
    }
   ],
   "source": [
    "df=pd.DataFrame(data)\n",
    "print(df.cov())"
   ]
  },
  {
   "cell_type": "markdown",
   "id": "9d76cb99",
   "metadata": {},
   "source": [
    "# Question 5\n",
    "Create a dataframe with NAN values and find their covariance\n"
   ]
  },
  {
   "cell_type": "code",
   "execution_count": 36,
   "id": "8fef218f",
   "metadata": {},
   "outputs": [],
   "source": [
    "d1=pd.DataFrame({\"col1\":[1,5,np.nan],\"col2\":[3,np.nan,1],\"col3\":[6,8,1],\"col4\":[10,7,np.nan]})"
   ]
  },
  {
   "cell_type": "code",
   "execution_count": 37,
   "id": "671d224f",
   "metadata": {},
   "outputs": [
    {
     "data": {
      "text/html": [
       "<div>\n",
       "<style scoped>\n",
       "    .dataframe tbody tr th:only-of-type {\n",
       "        vertical-align: middle;\n",
       "    }\n",
       "\n",
       "    .dataframe tbody tr th {\n",
       "        vertical-align: top;\n",
       "    }\n",
       "\n",
       "    .dataframe thead th {\n",
       "        text-align: right;\n",
       "    }\n",
       "</style>\n",
       "<table border=\"1\" class=\"dataframe\">\n",
       "  <thead>\n",
       "    <tr style=\"text-align: right;\">\n",
       "      <th></th>\n",
       "      <th>col1</th>\n",
       "      <th>col2</th>\n",
       "      <th>col3</th>\n",
       "      <th>col4</th>\n",
       "    </tr>\n",
       "  </thead>\n",
       "  <tbody>\n",
       "    <tr>\n",
       "      <th>col1</th>\n",
       "      <td>8.0</td>\n",
       "      <td>NaN</td>\n",
       "      <td>4.0</td>\n",
       "      <td>-6.0</td>\n",
       "    </tr>\n",
       "    <tr>\n",
       "      <th>col2</th>\n",
       "      <td>NaN</td>\n",
       "      <td>2.0</td>\n",
       "      <td>5.0</td>\n",
       "      <td>NaN</td>\n",
       "    </tr>\n",
       "    <tr>\n",
       "      <th>col3</th>\n",
       "      <td>4.0</td>\n",
       "      <td>5.0</td>\n",
       "      <td>13.0</td>\n",
       "      <td>-3.0</td>\n",
       "    </tr>\n",
       "    <tr>\n",
       "      <th>col4</th>\n",
       "      <td>-6.0</td>\n",
       "      <td>NaN</td>\n",
       "      <td>-3.0</td>\n",
       "      <td>4.5</td>\n",
       "    </tr>\n",
       "  </tbody>\n",
       "</table>\n",
       "</div>"
      ],
      "text/plain": [
       "      col1  col2  col3  col4\n",
       "col1   8.0   NaN   4.0  -6.0\n",
       "col2   NaN   2.0   5.0   NaN\n",
       "col3   4.0   5.0  13.0  -3.0\n",
       "col4  -6.0   NaN  -3.0   4.5"
      ]
     },
     "execution_count": 37,
     "metadata": {},
     "output_type": "execute_result"
    }
   ],
   "source": [
    "d1.cov()"
   ]
  },
  {
   "cell_type": "code",
   "execution_count": null,
   "id": "1f19c805",
   "metadata": {},
   "outputs": [],
   "source": []
  },
  {
   "cell_type": "code",
   "execution_count": null,
   "id": "2b16237b",
   "metadata": {},
   "outputs": [],
   "source": []
  },
  {
   "cell_type": "code",
   "execution_count": null,
   "id": "12782b8d",
   "metadata": {},
   "outputs": [],
   "source": []
  }
 ],
 "metadata": {
  "kernelspec": {
   "display_name": "Python 3 (ipykernel)",
   "language": "python",
   "name": "python3"
  },
  "language_info": {
   "codemirror_mode": {
    "name": "ipython",
    "version": 3
   },
   "file_extension": ".py",
   "mimetype": "text/x-python",
   "name": "python",
   "nbconvert_exporter": "python",
   "pygments_lexer": "ipython3",
   "version": "3.9.13"
  }
 },
 "nbformat": 4,
 "nbformat_minor": 5
}

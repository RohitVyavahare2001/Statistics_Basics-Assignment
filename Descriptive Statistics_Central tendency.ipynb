{
 "cells": [
  {
   "cell_type": "markdown",
   "id": "9c7efbac",
   "metadata": {},
   "source": [
    "# Question 1\n",
    "\n",
    "    Find the mean, and median of the data frame below?\n",
    "    Create a Dictionary of series\n",
    "    d = {'Name':pd.Series(['Tom','James','Ricky','Vin','Steve', 'Smith','Jack',\n",
    "        'Lee', 'Chanchal','Gasper','Naviya', 'Andres']),\n",
    "        'Age':pd.Series([25,26,25,23,30,29,23,34,40,30,51,46]),\n",
    "        'Rating':pd.Series ([4.23,3.24,3.98,2.56,3.20,4.6,3.8,3.78,2.98,4.80,4.10,3.65])}"
   ]
  },
  {
   "cell_type": "code",
   "execution_count": 38,
   "id": "77191d2d",
   "metadata": {},
   "outputs": [],
   "source": [
    "import numpy as np\n",
    "import pandas as pd\n",
    "import scipy.stats as stats\n",
    "import statistics\n",
    "d = {'Name':pd.Series(['Tom','James','Ricky','Vin','Steve', 'Smith','Jack','Lee', 'Chanchal','Gasper','Naviya', 'Andres']),\n",
    "    'Age':pd.Series([25,26,25,23,30,29,23,34,40,30,51,46]),\n",
    "    'Rating':pd.Series ([4.23,3.24,3.98,2.56,3.20,4.6,3.8,3.78,2.98,4.80,4.10,3.65])}"
   ]
  },
  {
   "cell_type": "code",
   "execution_count": 39,
   "id": "c391d4a5",
   "metadata": {},
   "outputs": [],
   "source": [
    "df=pd.DataFrame(d)"
   ]
  },
  {
   "cell_type": "code",
   "execution_count": 123,
   "id": "05a198ce",
   "metadata": {},
   "outputs": [],
   "source": [
    "age_m=df[\"Age\"].mean()\n",
    "rating_m=df[\"Rating\"].mean()\n",
    "age_median=df[\"Age\"].median()\n",
    "rating_median=df[\"Rating\"].median()"
   ]
  },
  {
   "cell_type": "code",
   "execution_count": 124,
   "id": "6ea6dc18",
   "metadata": {},
   "outputs": [
    {
     "name": "stdout",
     "output_type": "stream",
     "text": [
      "mean of age:  31.833333333333332\n",
      "median of age:  29.5\n",
      "mean of Rating:  3.7433333333333336\n",
      "median of rating:  3.79\n"
     ]
    }
   ],
   "source": [
    "print(\"mean of age: \",age_m)\n",
    "print(\"median of age: \",age_median)\n",
    "print(\"mean of Rating: \",rating_m)\n",
    "print(\"median of rating: \",rating_median)\n",
    "\n"
   ]
  },
  {
   "cell_type": "markdown",
   "id": "2500fd22",
   "metadata": {},
   "source": [
    "# Question 2\n",
    "\n",
    "    Find the mode of the data frame\n",
    "    d ={'Name':pd.Series(['Tom','James','Ricky','Vin','Steve', 'Smith','Jack',\n",
    "        'Lee', 'Chanchal','Gasper','Naviya','Andres']),\n",
    "        'Age':pd.Series([25,26,25,23,30,29,23,34,40,30,51,46]),\n",
    "        'Rating':pd.Series([4.23,3.24,3.98,2.56,3.20,4.6,3.8,3.78,2.98,4.80,4.10,3.65])}"
   ]
  },
  {
   "cell_type": "code",
   "execution_count": 58,
   "id": "483deb1d",
   "metadata": {},
   "outputs": [],
   "source": [
    "d ={'Name':pd.Series(['Tom','James','Ricky','Vin','Steve', 'Smith','Jack',\n",
    "    'Lee', 'Chanchal','Gasper','Naviya','Andres']),\n",
    "    'Age':pd.Series([25,26,25,23,30,29,23,34,40,30,51,46]),\n",
    "    'Rating':pd.Series([4.23,3.24,3.98,2.56,3.20,4.6,3.8,3.78,2.98,4.80,4.10,3.65])}"
   ]
  },
  {
   "cell_type": "code",
   "execution_count": 59,
   "id": "a02ba464",
   "metadata": {},
   "outputs": [],
   "source": [
    "df=pd.DataFrame(d)"
   ]
  },
  {
   "cell_type": "code",
   "execution_count": 60,
   "id": "06b437f9",
   "metadata": {},
   "outputs": [],
   "source": [
    "import scipy.stats as stats"
   ]
  },
  {
   "cell_type": "code",
   "execution_count": 70,
   "id": "769868f3",
   "metadata": {},
   "outputs": [
    {
     "name": "stderr",
     "output_type": "stream",
     "text": [
      "C:\\Users\\ROHIT\\AppData\\Local\\Temp\\ipykernel_11816\\1859648663.py:1: FutureWarning: Unlike other reduction functions (e.g. `skew`, `kurtosis`), the default behavior of `mode` typically preserves the axis it acts along. In SciPy 1.11.0, this behavior will change: the default value of `keepdims` will become False, the `axis` over which the statistic is taken will be eliminated, and the value None will no longer be accepted. Set `keepdims` to True or False to avoid this warning.\n",
      "  age_mode=stats.mode(df[\"Age\"])[0][0]\n",
      "C:\\Users\\ROHIT\\AppData\\Local\\Temp\\ipykernel_11816\\1859648663.py:2: FutureWarning: Unlike other reduction functions (e.g. `skew`, `kurtosis`), the default behavior of `mode` typically preserves the axis it acts along. In SciPy 1.11.0, this behavior will change: the default value of `keepdims` will become False, the `axis` over which the statistic is taken will be eliminated, and the value None will no longer be accepted. Set `keepdims` to True or False to avoid this warning.\n",
      "  Rating_mode=stats.mode(df[\"Rating\"])[0][0]\n"
     ]
    }
   ],
   "source": [
    "age_mode=stats.mode(df[\"Age\"])[0][0]\n",
    "Rating_mode=stats.mode(df[\"Rating\"])[0][0]"
   ]
  },
  {
   "cell_type": "code",
   "execution_count": 71,
   "id": "475dde38",
   "metadata": {},
   "outputs": [
    {
     "name": "stdout",
     "output_type": "stream",
     "text": [
      "mode for age is:  23\n",
      "mode for rating is 2.56\n"
     ]
    }
   ],
   "source": [
    "print(\"mode for age is: \",age_mode)\n",
    "print(\"mode for rating is\",Rating_mode)"
   ]
  },
  {
   "cell_type": "markdown",
   "id": "625e7e45",
   "metadata": {},
   "source": [
    "# Question 3\n",
    "\n",
    "    harmonic_mean() This function returns the harmonic mean of the data.\n",
    "    For three values [2,4,9.7] find out the harmonic mean"
   ]
  },
  {
   "cell_type": "code",
   "execution_count": 79,
   "id": "caefac08",
   "metadata": {},
   "outputs": [],
   "source": [
    "values=[2,4,9.7]"
   ]
  },
  {
   "cell_type": "code",
   "execution_count": 85,
   "id": "2908b286",
   "metadata": {},
   "outputs": [
    {
     "data": {
      "text/plain": [
       "3.516616314199396"
      ]
     },
     "execution_count": 85,
     "metadata": {},
     "output_type": "execute_result"
    }
   ],
   "source": [
    "import statistics\n",
    "statistics.harmonic_mean(values)"
   ]
  },
  {
   "cell_type": "markdown",
   "id": "176074a9",
   "metadata": {},
   "source": [
    "# Question 4\n",
    "\n",
    "    Consider the ages of five employees as 30, 30, 32, 38, 60 years. \n",
    "    Calculate the measures of central tendency."
   ]
  },
  {
   "cell_type": "code",
   "execution_count": 87,
   "id": "32e36daf",
   "metadata": {},
   "outputs": [],
   "source": [
    "age=[30, 30, 32, 38, 60]"
   ]
  },
  {
   "cell_type": "code",
   "execution_count": 91,
   "id": "9f7cb100",
   "metadata": {},
   "outputs": [],
   "source": [
    "mean=statistics.mean(age)\n",
    "median=statistics.median(age)\n",
    "mode=statistics.mode(age)"
   ]
  },
  {
   "cell_type": "code",
   "execution_count": 100,
   "id": "3d27f4bf",
   "metadata": {},
   "outputs": [
    {
     "name": "stdout",
     "output_type": "stream",
     "text": [
      "measures of central tendency are; mean : 38 , median : 32 and mode : 30\n"
     ]
    }
   ],
   "source": [
    "print(f\"measures of central tendency are; mean : {mean} , median : {median} and mode : {mode}\")"
   ]
  },
  {
   "cell_type": "markdown",
   "id": "45f0596b",
   "metadata": {},
   "source": [
    "#    Question 5\n",
    "    A batsman scores an average of 48 runs in six matches. If his score in five matches is 51,45,46, 44, and 49. \n",
    "    Find his score in the sixth match?"
   ]
  },
  {
   "cell_type": "code",
   "execution_count": 127,
   "id": "9714ac66",
   "metadata": {},
   "outputs": [],
   "source": [
    "scores1=[51,45,46, 44,49]\n",
    "avg=48"
   ]
  },
  {
   "cell_type": "code",
   "execution_count": 128,
   "id": "ca60d94c",
   "metadata": {},
   "outputs": [],
   "source": [
    "def scores(scores,avg):\n",
    "    n=6\n",
    "    X=avg*n-sum(scores)\n",
    "    return X"
   ]
  },
  {
   "cell_type": "code",
   "execution_count": 129,
   "id": "71cc3941",
   "metadata": {},
   "outputs": [
    {
     "data": {
      "text/plain": [
       "53"
      ]
     },
     "execution_count": 129,
     "metadata": {},
     "output_type": "execute_result"
    }
   ],
   "source": [
    "scores(scores1,avg)\n"
   ]
  },
  {
   "cell_type": "code",
   "execution_count": null,
   "id": "e8535ad2",
   "metadata": {},
   "outputs": [],
   "source": []
  }
 ],
 "metadata": {
  "kernelspec": {
   "display_name": "Python 3 (ipykernel)",
   "language": "python",
   "name": "python3"
  },
  "language_info": {
   "codemirror_mode": {
    "name": "ipython",
    "version": 3
   },
   "file_extension": ".py",
   "mimetype": "text/x-python",
   "name": "python",
   "nbconvert_exporter": "python",
   "pygments_lexer": "ipython3",
   "version": "3.9.13"
  }
 },
 "nbformat": 4,
 "nbformat_minor": 5
}

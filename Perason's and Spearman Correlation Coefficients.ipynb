{
 "cells": [
  {
   "cell_type": "markdown",
   "id": "726011e9",
   "metadata": {},
   "source": [
    "# Question 1\n",
    "    find the pearson coefficient of given below data using numpy;\n",
    "    x = [48,67,89,76,55,66,89,90,99,100,100,32,55)\n",
    "    y = [52,61,78,81,50,49,95,100,100,90,89,21,62]\n"
   ]
  },
  {
   "cell_type": "code",
   "execution_count": 6,
   "id": "99d51dae",
   "metadata": {},
   "outputs": [
    {
     "name": "stdout",
     "output_type": "stream",
     "text": [
      "[[1.         0.93195306]\n",
      " [0.93195306 1.        ]]\n"
     ]
    }
   ],
   "source": [
    "import numpy as np\n",
    "x = [48,67,89,76,55,66,89,90,99,100,100,32,55]\n",
    "y = [52,61,78,81,50,49,95,100,100,90,89,21,62]\n",
    "print(np.corrcoef(x,y))"
   ]
  },
  {
   "cell_type": "markdown",
   "id": "7a32ef5c",
   "metadata": {},
   "source": [
    "# Question 2\n",
    "    find the pearson coefficient of given below data using Scipy\n",
    "    X = [48,67,89,76,55,66,89,90,99,100,100,32,55]\n",
    "    y = [52,61,78,81,50,49,95,100,100,90,89,21,62]\n"
   ]
  },
  {
   "cell_type": "code",
   "execution_count": 7,
   "id": "7fd23e64",
   "metadata": {},
   "outputs": [],
   "source": [
    "X = [48,67,89,76,55,66,89,90,99,100,100,32,55]\n",
    "y = [52,61,78,81,50,49,95,100,100,90,89,21,62]"
   ]
  },
  {
   "cell_type": "code",
   "execution_count": 9,
   "id": "e04f70c1",
   "metadata": {},
   "outputs": [],
   "source": [
    "import scipy.stats"
   ]
  },
  {
   "cell_type": "code",
   "execution_count": 11,
   "id": "e3314de2",
   "metadata": {},
   "outputs": [
    {
     "name": "stdout",
     "output_type": "stream",
     "text": [
      "PearsonRResult(statistic=0.9319530597064698, pvalue=3.55208476317345e-06)\n"
     ]
    }
   ],
   "source": [
    "print(scipy.stats.pearsonr(X,y))"
   ]
  },
  {
   "cell_type": "markdown",
   "id": "92159ce5",
   "metadata": {},
   "source": [
    "# Question 3\n",
    "Calculate the correlation coefficient by Pearson's correlation coefficient, calculate values of\n",
    "x^2, y^2, xy and display them in a series:\n",
    "\n",
    "\n",
    "X = 21,31,25,40,47,38\n",
    "\n",
    "Y = 70,55,60,78,66,80\n"
   ]
  },
  {
   "cell_type": "code",
   "execution_count": 37,
   "id": "589e9ab0",
   "metadata": {},
   "outputs": [
    {
     "name": "stdout",
     "output_type": "stream",
     "text": [
      "[[1.         0.34711023]\n",
      " [0.34711023 1.        ]]\n"
     ]
    }
   ],
   "source": [
    "X = 21,31,25,40,47,38\n",
    "\n",
    "Y = 70,55,60,78,66,80\n",
    "print(np.corrcoef(X,Y))"
   ]
  },
  {
   "cell_type": "markdown",
   "id": "6e69e40f",
   "metadata": {},
   "source": [
    "# Question 4\n",
    "write a program to find spearman's coefficient from given values;\n",
    "\n",
    "X = [15,18,21, 15, 21]\n",
    "\n",
    "y = [25,25,27,27,27]\n"
   ]
  },
  {
   "cell_type": "code",
   "execution_count": 15,
   "id": "db676925",
   "metadata": {},
   "outputs": [],
   "source": [
    "X = [15,18,21, 15, 21]\n",
    "y = [25,25,27,27,27]"
   ]
  },
  {
   "cell_type": "code",
   "execution_count": 17,
   "id": "2502e966",
   "metadata": {},
   "outputs": [
    {
     "name": "stdout",
     "output_type": "stream",
     "text": [
      "SpearmanrResult(correlation=0.45643546458763845, pvalue=0.4397101096353205)\n"
     ]
    }
   ],
   "source": [
    "import scipy.stats\n",
    "print(scipy.stats.spearmanr(X,y))"
   ]
  },
  {
   "cell_type": "markdown",
   "id": "387019d9",
   "metadata": {},
   "source": [
    "# Question 5\n",
    "The scores for nine students in physics and math are as follows find the spearmans coeff;\n",
    "\n",
    "Physics: 35, 23, 47, 17, 10, 43, 9, 6, 28\n",
    "\n",
    "Mathematics: 30, 33, 45, 23, 8, 49, 12, 4, 31\n"
   ]
  },
  {
   "cell_type": "code",
   "execution_count": 18,
   "id": "0c658317",
   "metadata": {},
   "outputs": [],
   "source": [
    "Physics=[35, 23, 47, 17, 10, 43, 9, 6, 28]\n",
    "\n",
    "Mathematics=[30, 33, 45, 23, 8, 49, 12, 4, 31]\n"
   ]
  },
  {
   "cell_type": "code",
   "execution_count": 22,
   "id": "a6ed7f6a",
   "metadata": {},
   "outputs": [],
   "source": [
    "import scipy.stats \n",
    "from scipy.stats import spearmanr"
   ]
  },
  {
   "cell_type": "code",
   "execution_count": 25,
   "id": "48db2130",
   "metadata": {},
   "outputs": [
    {
     "name": "stdout",
     "output_type": "stream",
     "text": [
      "SpearmanrResult(correlation=0.9, pvalue=0.0009430623223403293)\n"
     ]
    }
   ],
   "source": [
    "print(spearmanr(Physics,Mathematics))"
   ]
  },
  {
   "cell_type": "code",
   "execution_count": null,
   "id": "40f9c49b",
   "metadata": {},
   "outputs": [],
   "source": []
  },
  {
   "cell_type": "code",
   "execution_count": null,
   "id": "95602bae",
   "metadata": {},
   "outputs": [],
   "source": []
  }
 ],
 "metadata": {
  "kernelspec": {
   "display_name": "Python 3 (ipykernel)",
   "language": "python",
   "name": "python3"
  },
  "language_info": {
   "codemirror_mode": {
    "name": "ipython",
    "version": 3
   },
   "file_extension": ".py",
   "mimetype": "text/x-python",
   "name": "python",
   "nbconvert_exporter": "python",
   "pygments_lexer": "ipython3",
   "version": "3.9.13"
  }
 },
 "nbformat": 4,
 "nbformat_minor": 5
}

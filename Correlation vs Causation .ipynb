{
 "cells": [
  {
   "cell_type": "markdown",
   "id": "42618b83",
   "metadata": {},
   "source": [
    "# Question 1\n",
    "Write a NumPy program to compute cross-correlation of two given arrays.\n"
   ]
  },
  {
   "cell_type": "code",
   "execution_count": 1,
   "id": "926a5706",
   "metadata": {},
   "outputs": [
    {
     "name": "stdout",
     "output_type": "stream",
     "text": [
      "[14]\n"
     ]
    }
   ],
   "source": [
    "import numpy as np\n",
    "import pandas as pd\n",
    "arr1=np.array([1,2,3])\n",
    "arr2=np.array([5,6,7])\n",
    "print(np.correlate(arr1,arr1))"
   ]
  },
  {
   "cell_type": "markdown",
   "id": "48c31f6a",
   "metadata": {},
   "source": [
    "# Question 2\n",
    "Write a NumPy program to compute the mean, standard deviation, and variance of a given\n",
    "array along the second axis."
   ]
  },
  {
   "cell_type": "code",
   "execution_count": 1,
   "id": "a51533c3",
   "metadata": {},
   "outputs": [
    {
     "name": "stdout",
     "output_type": "stream",
     "text": [
      "mean is [2.5 1. ] ,standard deviation is : [1.11803399 0.        ] ,variance is ,[1.25 0.  ]\n"
     ]
    }
   ],
   "source": [
    "import numpy as np\n",
    "import pandas as pd\n",
    "a1=np.array([[1,2,3,4],[1,1,1,1]])\n",
    "mean=np.mean(a1,axis=1)\n",
    "sdv=np.std(a1,axis=1)\n",
    "variance=np.var(a1,axis=1)\n",
    "print(f\"mean is {mean} ,standard deviation is : {sdv} ,variance is ,{variance}\")"
   ]
  },
  {
   "cell_type": "markdown",
   "id": "d496af7e",
   "metadata": {},
   "source": [
    "# Question 3\n",
    "program to compute the weighted of a given array."
   ]
  },
  {
   "cell_type": "code",
   "execution_count": 15,
   "id": "8de208a6",
   "metadata": {},
   "outputs": [
    {
     "data": {
      "text/plain": [
       "3.5000000000000004"
      ]
     },
     "execution_count": 15,
     "metadata": {},
     "output_type": "execute_result"
    }
   ],
   "source": [
    "import numpy as np\n",
    "array1=np.array([1,2,3,4,5,6])\n",
    "weights=np.array([0.1,0.1,0.1,0.1,0.1,0.1])\n",
    "weighted_array=np.average(array1,weights=weights)\n",
    "weighted_array"
   ]
  },
  {
   "cell_type": "markdown",
   "id": "9d385484",
   "metadata": {},
   "source": [
    "# Question 4\n",
    "Write a NumPy program to compute the covariance matrix of two given arrays."
   ]
  },
  {
   "cell_type": "code",
   "execution_count": 6,
   "id": "859ef1d5",
   "metadata": {},
   "outputs": [
    {
     "name": "stdout",
     "output_type": "stream",
     "text": [
      "[[1. 1.]\n",
      " [1. 1.]]\n"
     ]
    }
   ],
   "source": [
    "import numpy as np\n",
    "a1=np.array([1,2,3])\n",
    "a2=np.array([7,8,9])\n",
    "print(np.cov(a1,a2))"
   ]
  },
  {
   "cell_type": "markdown",
   "id": "896b443c",
   "metadata": {},
   "source": [
    "# Question 5\n",
    "\n",
    "Write a NumPy program to compute the 80th percentile for all elements in a given array\n",
    "along the second axis."
   ]
  },
  {
   "cell_type": "code",
   "execution_count": 7,
   "id": "9f79a51e",
   "metadata": {},
   "outputs": [
    {
     "name": "stdout",
     "output_type": "stream",
     "text": [
      "[3.  3.4]\n"
     ]
    }
   ],
   "source": [
    "import numpy as np\n",
    "s1=np.array([[1,2,3,3],[1,2,3,4]])\n",
    "print(np.percentile(s1,80,axis=1))"
   ]
  },
  {
   "cell_type": "markdown",
   "id": "22996c78",
   "metadata": {},
   "source": [
    "# Question 6\n",
    "Write a NumPy program to calculate the difference between the maximum and the\n",
    "minimum values of a given array along the second axis."
   ]
  },
  {
   "cell_type": "code",
   "execution_count": 8,
   "id": "a3eaff8c",
   "metadata": {},
   "outputs": [
    {
     "data": {
      "text/plain": [
       "array([2, 2])"
      ]
     },
     "execution_count": 8,
     "metadata": {},
     "output_type": "execute_result"
    }
   ],
   "source": [
    "import numpy as np\n",
    "arr_1=np.array([[1,2,3],[4,5,6]])\n",
    "np.ptp(arr_1,axis=1)"
   ]
  },
  {
   "cell_type": "markdown",
   "id": "e121dd6e",
   "metadata": {},
   "source": [
    "# Question 7\n",
    "Write a NumPy program to get the minimum and maximum value of a given array along\n",
    "the second axis."
   ]
  },
  {
   "cell_type": "code",
   "execution_count": 34,
   "id": "512f80ca",
   "metadata": {},
   "outputs": [
    {
     "data": {
      "text/plain": [
       "(array([1, 4, 7]), array([3, 6, 9]))"
      ]
     },
     "execution_count": 34,
     "metadata": {},
     "output_type": "execute_result"
    }
   ],
   "source": [
    "import numpy as np\n",
    "arr_1=np.array([[1, 2, 3], [4, 5, 6], [7, 8, 9]])\n",
    "a=(np.min(arr_1,axis=1))\n",
    "b=(np.max(arr_1,axis=1))\n",
    "a,b"
   ]
  },
  {
   "cell_type": "markdown",
   "id": "ee050c68",
   "metadata": {},
   "source": [
    "# Question 8\n",
    "Python program to find the maximum and minimum value of a given flattened array."
   ]
  },
  {
   "cell_type": "code",
   "execution_count": 37,
   "id": "f715eb42",
   "metadata": {},
   "outputs": [
    {
     "ename": "TypeError",
     "evalue": "'numpy.float64' object is not callable",
     "output_type": "error",
     "traceback": [
      "\u001b[1;31m---------------------------------------------------------------------------\u001b[0m",
      "\u001b[1;31mTypeError\u001b[0m                                 Traceback (most recent call last)",
      "\u001b[1;32m~\\AppData\\Local\\Temp\\ipykernel_8864\\30719271.py\u001b[0m in \u001b[0;36m<module>\u001b[1;34m\u001b[0m\n\u001b[0;32m      3\u001b[0m \u001b[0mamin\u001b[0m\u001b[1;33m=\u001b[0m\u001b[0mnp\u001b[0m\u001b[1;33m.\u001b[0m\u001b[0mmax\u001b[0m\u001b[1;33m(\u001b[0m\u001b[0mnew_array\u001b[0m\u001b[1;33m)\u001b[0m\u001b[1;33m\u001b[0m\u001b[1;33m\u001b[0m\u001b[0m\n\u001b[0;32m      4\u001b[0m \u001b[0mamax\u001b[0m\u001b[1;33m=\u001b[0m\u001b[0mnp\u001b[0m\u001b[1;33m.\u001b[0m\u001b[0mmin\u001b[0m\u001b[1;33m(\u001b[0m\u001b[0mnew_array\u001b[0m\u001b[1;33m)\u001b[0m\u001b[1;33m\u001b[0m\u001b[1;33m\u001b[0m\u001b[0m\n\u001b[1;32m----> 5\u001b[1;33m \u001b[0mprint\u001b[0m\u001b[1;33m(\u001b[0m\u001b[1;34mf\"array is{new_array}\\n and its mean is{amin} and its max is{amax}\"\u001b[0m\u001b[1;33m)\u001b[0m\u001b[1;33m\u001b[0m\u001b[1;33m\u001b[0m\u001b[0m\n\u001b[0m",
      "\u001b[1;31mTypeError\u001b[0m: 'numpy.float64' object is not callable"
     ]
    }
   ],
   "source": [
    "import numpy as np\n",
    "new_array=np.arange(4).reshape(4,1)\n",
    "amin=np.max(new_array)\n",
    "amax=np.min(new_array)\n",
    "print(f\"array is{new_array}\\n and its mean is{amin} and its max is{amax}\")"
   ]
  },
  {
   "cell_type": "markdown",
   "id": "8a868f03",
   "metadata": {},
   "source": [
    "# Question 9\n",
    "\n",
    "Write a NumPy program to test element-wise of a given array for finiteness (not infinity or\n",
    "not Not a Number), positive or negative infinity, for NaN, for NaT (not a time), for negative\n",
    "infinity, for positive infinity"
   ]
  },
  {
   "cell_type": "code",
   "execution_count": 12,
   "id": "0caec15e",
   "metadata": {},
   "outputs": [
    {
     "name": "stdout",
     "output_type": "stream",
     "text": [
      "check for finite:  [ True False False False False False]\n",
      "check for not infinity:  [False  True  True False  True  True]\n",
      "check for NaN:  [False False False  True False False]\n",
      "check for negative infinity:  [False False  True False  True False]\n",
      "check for positive infinity:  [False  True False False False  True]\n"
     ]
    }
   ],
   "source": [
    "import numpy as np\n",
    "arr=np.array([1, np.inf, -np.inf, np.nan, -np.inf, np.inf])\n",
    "print(\"check for finite: \",np.isfinite(arr,))\n",
    "print(\"check for not infinity: \",np.isinf(arr,))\n",
    "print(\"check for NaN: \",np.isnan(arr,))\n",
    "print(\"check for negative infinity: \",np.isneginf(arr,))\n",
    "print(\"check for positive infinity: \",np.isposinf(arr,))"
   ]
  },
  {
   "cell_type": "markdown",
   "id": "5062f616",
   "metadata": {},
   "source": [
    "# Question 10\n",
    "program to compute the weighted average along the axis of array.\n"
   ]
  },
  {
   "cell_type": "code",
   "execution_count": 13,
   "id": "9e5321e5",
   "metadata": {},
   "outputs": [
    {
     "data": {
      "text/plain": [
       "2.9999999999999996"
      ]
     },
     "execution_count": 13,
     "metadata": {},
     "output_type": "execute_result"
    }
   ],
   "source": [
    "import numpy as np\n",
    "arr2=np.array([2,3,4])\n",
    "weights=np.array([0.1,0.1,0.1])\n",
    "np.average(arr2,weights=weights,axis=0)"
   ]
  },
  {
   "cell_type": "markdown",
   "id": "43c50c1f",
   "metadata": {},
   "source": [
    "# Question 11\n",
    "Write a Python program to count number of occurrences of each value in a given array of\n",
    "non-negative integers"
   ]
  },
  {
   "cell_type": "code",
   "execution_count": 14,
   "id": "1941143c",
   "metadata": {},
   "outputs": [
    {
     "name": "stdout",
     "output_type": "stream",
     "text": [
      "[0 0 0 1 1 1 1 2 1]\n"
     ]
    }
   ],
   "source": [
    "import numpy as np\n",
    "z1=np.array([8,3,4,5,6,7,7])\n",
    "print(np.bincount(z1))"
   ]
  },
  {
   "cell_type": "markdown",
   "id": "9ac49a48",
   "metadata": {},
   "source": [
    "# Question 12\n",
    "Write a program to compute the histogram of nums against the bins."
   ]
  },
  {
   "cell_type": "code",
   "execution_count": 45,
   "id": "aca49341",
   "metadata": {},
   "outputs": [
    {
     "data": {
      "text/plain": [
       "(array([1., 2.]),\n",
       " array([ 80., 100., 120.]),\n",
       " <BarContainer object of 2 artists>)"
      ]
     },
     "execution_count": 45,
     "metadata": {},
     "output_type": "execute_result"
    },
    {
     "data": {
      "image/png": "[encoded data removed]",
      "text/plain": [
       "<Figure size 640x480 with 1 Axes>"
      ]
     },
     "metadata": {},
     "output_type": "display_data"
    }
   ],
   "source": [
    "import numpy as np\n",
    "import matplotlib.pyplot as plt\n",
    "\n",
    "nums=[40,60,80,100,120,140,160,180,200]\n",
    "bins=[80,100,120]\n",
    "\n",
    "\n",
    "plt.hist(nums,bins=bins)"
   ]
  },
  {
   "cell_type": "markdown",
   "id": "4bbfb919",
   "metadata": {},
   "source": [
    "# Question 13\n",
    "\n",
    "Write a program to draw the below\n",
    "\n"
   ]
  },
  {
   "cell_type": "code",
   "execution_count": 58,
   "id": "7ad6bf13",
   "metadata": {},
   "outputs": [
    {
     "data": {
      "text/plain": [
       "<matplotlib.collections.PathCollection at 0x1e3cf696760>"
      ]
     },
     "execution_count": 58,
     "metadata": {},
     "output_type": "execute_result"
    },
    {
     "data": {
      "image/png": "[encoded data removed]",
      "text/plain": [
       "<Figure size 640x480 with 1 Axes>"
      ]
     },
     "metadata": {},
     "output_type": "display_data"
    }
   ],
   "source": [
    "import random\n",
    "a=np.random.randint(0,50,1000)\n",
    "b=a\n",
    "plt.scatter(a,b)"
   ]
  },
  {
   "cell_type": "markdown",
   "id": "92e9a554",
   "metadata": {},
   "source": [
    "# Question 14\n",
    "Write a Python program for 150 continuous values scatter plot taking a random values and\n",
    "plot."
   ]
  },
  {
   "cell_type": "code",
   "execution_count": 50,
   "id": "07015ef7",
   "metadata": {},
   "outputs": [
    {
     "data": {
      "text/plain": [
       "<matplotlib.collections.PathCollection at 0x230c2fc1fd0>"
      ]
     },
     "execution_count": 50,
     "metadata": {},
     "output_type": "execute_result"
    },
    {
     "data": {
      "image/png": "[encoded data removed]",
      "text/plain": [
       "<Figure size 640x480 with 1 Axes>"
      ]
     },
     "metadata": {},
     "output_type": "display_data"
    }
   ],
   "source": [
    "import numpy as np\n",
    "import matplotlib.pyplot as plt\n",
    "import random\n",
    "a = [random.randint(0, 100) for i in range(150)]\n",
    "b = [random.randint(0, 100) for i in range(150)]\n",
    "\n",
    "plt.scatter(a,b,color=\"red\")"
   ]
  },
  {
   "cell_type": "markdown",
   "id": "aa5b1435",
   "metadata": {},
   "source": [
    "# Question 15\n",
    "\n",
    "Write a Python program to plot two or more lines on the same plot with suitable legends of\n",
    "each line.\n"
   ]
  },
  {
   "cell_type": "code",
   "execution_count": 2,
   "id": "929f1d20",
   "metadata": {},
   "outputs": [
    {
     "data": {
      "text/plain": [
       "<matplotlib.legend.Legend at 0x211dc440b50>"
      ]
     },
     "execution_count": 2,
     "metadata": {},
     "output_type": "execute_result"
    },
    {
     "data": {
      "image/png": "[encoded data removed]",
      "text/plain": [
       "<Figure size 640x480 with 1 Axes>"
      ]
     },
     "metadata": {},
     "output_type": "display_data"
    }
   ],
   "source": [
    "import matplotlib.pyplot as plt\n",
    "x1 = [10,20,30]\n",
    "y1 = [20,40,10]\n",
    "\n",
    "x2 = [10,20,30]\n",
    "y2 = [40,10,30]\n",
    "\n",
    "plt.plot(x1,y1,color=\"blue\",label=\"line1\")\n",
    "plt.plot(x2,y2,color=\"green\",label=\"line2\")\n",
    "plt.legend()"
   ]
  },
  {
   "cell_type": "code",
   "execution_count": null,
   "id": "d0b6e3c3",
   "metadata": {},
   "outputs": [],
   "source": []
  },
  {
   "cell_type": "code",
   "execution_count": null,
   "id": "9025ce4c",
   "metadata": {},
   "outputs": [],
   "source": []
  },
  {
   "cell_type": "code",
   "execution_count": null,
   "id": "0e30f063",
   "metadata": {},
   "outputs": [],
   "source": []
  },
  {
   "cell_type": "code",
   "execution_count": null,
   "id": "9c5d7aff",
   "metadata": {},
   "outputs": [],
   "source": []
  },
  {
   "cell_type": "code",
   "execution_count": null,
   "id": "40f4c944",
   "metadata": {},
   "outputs": [],
   "source": []
  }
 ],
 "metadata": {
  "kernelspec": {
   "display_name": "Python 3 (ipykernel)",
   "language": "python",
   "name": "python3"
  },
  "language_info": {
   "codemirror_mode": {
    "name": "ipython",
    "version": 3
   },
   "file_extension": ".py",
   "mimetype": "text/x-python",
   "name": "python",
   "nbconvert_exporter": "python",
   "pygments_lexer": "ipython3",
   "version": "3.9.13"
  }
 },
 "nbformat": 4,
 "nbformat_minor": 5
}
